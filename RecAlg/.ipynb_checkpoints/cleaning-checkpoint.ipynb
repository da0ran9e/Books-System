{
 "cells": [
  {
   "cell_type": "code",
   "execution_count": 58,
   "id": "d7e2ab5d",
   "metadata": {},
   "outputs": [],
   "source": [
    "import html\n",
    "import pandas as pd\n",
    "import numpy as np"
   ]
  },
  {
   "cell_type": "code",
   "execution_count": 59,
   "id": "d0965685",
   "metadata": {},
   "outputs": [],
   "source": [
    "pd.set_option('display.max_colwidth', None)"
   ]
  },
  {
   "cell_type": "code",
   "execution_count": 60,
   "id": "ab918be4",
   "metadata": {},
   "outputs": [],
   "source": [
    "book_path = r'C:\\Users\\Legion\\Downloads\\b\\1INTRO2AI\\BX-Books.csv'\n",
    "user_path = r'C:\\Users\\Legion\\Downloads\\b\\1INTRO2AI\\BX-Users.csv'\n",
    "rating_path = r'C:\\Users\\Legion\\Downloads\\b\\1INTRO2AI\\BX-Book-Ratings.csv'"
   ]
  },
  {
   "cell_type": "code",
   "execution_count": 61,
   "id": "8915a045",
   "metadata": {},
   "outputs": [],
   "source": [
    "# Fix the &amp; and other HTML escape sequences\n",
    "raw_book_path = book_path\n",
    "book_path = r'C:\\Users\\Legion\\Downloads\\b\\1INTRO2AI\\BX-Books-HTMLfixed.csv'\n",
    "with open(raw_book_path, 'r', encoding='latin-1') as f, open(book_path, 'w') as g:\n",
    "    content = html.unescape(f.read())\n",
    "    g.write(content)"
   ]
  },
  {
   "cell_type": "code",
   "execution_count": 62,
   "id": "0d916dba",
   "metadata": {},
   "outputs": [],
   "source": [
    "books = pd.read_csv(book_path, encoding='latin-1' , on_bad_lines='skip' , sep=';' , low_memory=False, escapechar='\\\\')\n",
    "users = pd.read_csv(user_path, encoding='latin-1' , on_bad_lines='skip' , sep=';' , low_memory=False, escapechar='\\\\')\n",
    "ratings = pd.read_csv(rating_path, encoding='latin-1' , on_bad_lines='skip' , sep=';' , low_memory=False, escapechar='\\\\')"
   ]
  },
  {
   "cell_type": "markdown",
   "id": "f35cdbb3",
   "metadata": {},
   "source": [
    "<h2>Cleaning the books dataframe</h2>"
   ]
  },
  {
   "cell_type": "code",
   "execution_count": 63,
   "id": "f8094933",
   "metadata": {},
   "outputs": [
    {
     "name": "stdout",
     "output_type": "stream",
     "text": [
      "<class 'pandas.core.frame.DataFrame'>\n",
      "RangeIndex: 271379 entries, 0 to 271378\n",
      "Data columns (total 8 columns):\n",
      " #   Column               Non-Null Count   Dtype \n",
      "---  ------               --------------   ----- \n",
      " 0   ISBN                 271379 non-null  object\n",
      " 1   Book-Title           271379 non-null  object\n",
      " 2   Book-Author          271378 non-null  object\n",
      " 3   Year-Of-Publication  271379 non-null  int64 \n",
      " 4   Publisher            271377 non-null  object\n",
      " 5   Image-URL-S          271379 non-null  object\n",
      " 6   Image-URL-M          271379 non-null  object\n",
      " 7   Image-URL-L          271379 non-null  object\n",
      "dtypes: int64(1), object(7)\n",
      "memory usage: 16.6+ MB\n",
      "None \n",
      "\n"
     ]
    }
   ],
   "source": [
    "print(books.info(), '\\n')"
   ]
  },
  {
   "cell_type": "code",
   "execution_count": 64,
   "id": "65a465a0",
   "metadata": {},
   "outputs": [],
   "source": [
    "# This two columns have missing values so we need to fill them\n",
    "books.loc[books['Book-Author'].isnull(), 'Book-Author'] = \"No author\"\n",
    "books.loc[books['Publisher'].isnull(), 'Book-Author'] = \"Other\""
   ]
  },
  {
   "cell_type": "code",
   "execution_count": 65,
   "id": "bdb400e3",
   "metadata": {},
   "outputs": [
    {
     "data": {
      "text/plain": [
       "array([2002, 2001, 1991, 1999, 2000, 1993, 1996, 1988, 2004, 1998, 1994,\n",
       "       2003, 1997, 1983, 1979, 1995, 1982, 1985, 1992, 1986, 1978, 1980,\n",
       "       1952, 1987, 1990, 1981, 1989, 1984,    0, 1968, 1961, 1958, 1974,\n",
       "       1976, 1971, 1977, 1975, 1965, 1941, 1970, 1962, 1973, 1972, 1960,\n",
       "       1966, 1920, 1956, 1959, 1953, 1951, 1942, 1963, 1964, 1969, 1954,\n",
       "       1950, 1967, 2005, 1957, 1940, 1937, 1955, 1946, 1936, 1930, 2011,\n",
       "       1925, 1948, 1943, 1947, 1945, 1923, 2020, 1939, 1926, 1938, 2030,\n",
       "       1911, 1904, 1949, 1932, 1928, 1929, 1927, 1931, 1914, 2050, 1934,\n",
       "       1910, 1933, 1902, 1924, 1921, 1900, 2038, 2026, 1944, 1917, 1901,\n",
       "       2010, 1908, 1906, 1935, 1806, 2021, 2012, 2006, 1909, 2008, 1378,\n",
       "       1919, 1922, 1897, 2024, 1376, 2037], dtype=int64)"
      ]
     },
     "execution_count": 65,
     "metadata": {},
     "output_type": "execute_result"
    }
   ],
   "source": [
    "books['Year-Of-Publication'].unique()"
   ]
  },
  {
   "cell_type": "markdown",
   "id": "cb504501",
   "metadata": {},
   "source": [
    "<h2>Cleaning the users dataframe</h2>"
   ]
  },
  {
   "cell_type": "code",
   "execution_count": 66,
   "id": "b7ca7029",
   "metadata": {
    "scrolled": true
   },
   "outputs": [
    {
     "name": "stdout",
     "output_type": "stream",
     "text": [
      "<class 'pandas.core.frame.DataFrame'>\n",
      "RangeIndex: 278858 entries, 0 to 278857\n",
      "Data columns (total 3 columns):\n",
      " #   Column    Non-Null Count   Dtype  \n",
      "---  ------    --------------   -----  \n",
      " 0   User-ID   278858 non-null  int64  \n",
      " 1   Location  278858 non-null  object \n",
      " 2   Age       168096 non-null  float64\n",
      "dtypes: float64(1), int64(1), object(1)\n",
      "memory usage: 6.4+ MB\n",
      "None \n",
      "\n"
     ]
    }
   ],
   "source": [
    "print(users.info(), '\\n')"
   ]
  },
  {
   "cell_type": "code",
   "execution_count": 67,
   "id": "7aeb682b",
   "metadata": {},
   "outputs": [
    {
     "name": "stdout",
     "output_type": "stream",
     "text": [
      "[nan, 0.0, 1.0, 2.0, 3.0, 4.0, 5.0, 6.0, 7.0, 8.0, 9.0, 10.0, 11.0, 12.0, 13.0, 14.0, 15.0, 16.0, 17.0, 18.0, 19.0, 20.0, 21.0, 22.0, 23.0, 24.0, 25.0, 26.0, 27.0, 28.0, 29.0, 30.0, 31.0, 32.0, 33.0, 34.0, 35.0, 36.0, 37.0, 38.0, 39.0, 40.0, 41.0, 42.0, 43.0, 44.0, 45.0, 46.0, 47.0, 48.0, 49.0, 50.0, 51.0, 52.0, 53.0, 54.0, 55.0, 56.0, 57.0, 58.0, 59.0, 60.0, 61.0, 62.0, 63.0, 64.0, 65.0, 66.0, 67.0, 68.0, 69.0, 70.0, 71.0, 72.0, 73.0, 74.0, 75.0, 76.0, 77.0, 78.0, 79.0, 80.0, 81.0, 82.0, 83.0, 84.0, 85.0, 86.0, 87.0, 88.0, 89.0, 90.0, 91.0, 92.0, 93.0, 94.0, 95.0, 96.0, 97.0, 98.0, 99.0, 100.0, 101.0, 102.0, 103.0, 104.0, 105.0, 106.0, 107.0, 108.0, 109.0, 110.0, 111.0, 113.0, 114.0, 115.0, 116.0, 118.0, 119.0, 123.0, 124.0, 127.0, 128.0, 132.0, 133.0, 136.0, 137.0, 138.0, 140.0, 141.0, 143.0, 146.0, 147.0, 148.0, 151.0, 152.0, 156.0, 157.0, 159.0, 162.0, 168.0, 172.0, 175.0, 183.0, 186.0, 189.0, 199.0, 200.0, 201.0, 204.0, 207.0, 208.0, 209.0, 210.0, 212.0, 219.0, 220.0, 223.0, 226.0, 228.0, 229.0, 230.0, 231.0, 237.0, 239.0, 244.0]\n"
     ]
    }
   ],
   "source": [
    "print(sorted(users['Age'].unique()))"
   ]
  },
  {
   "cell_type": "markdown",
   "id": "48b8fa1a",
   "metadata": {},
   "source": [
    "<p>A lot of values from 'Age' column is missing and some others are too low or too high for an average person (200 years old).</p>"
   ]
  },
  {
   "cell_type": "code",
   "execution_count": 71,
   "id": "a2eda06e",
   "metadata": {},
   "outputs": [],
   "source": [
    "# Replace those values with the average of all normal age\n",
    "users.loc[(users['Age'] < 5) | (users['Age'] > 100), 'Age'] = pd.NA\n",
    "users['Age'].fillna(users['Age'].mean(), inplace=True)\n",
    "users['Age'] = users['Age'].astype(np.int64)"
   ]
  },
  {
   "cell_type": "markdown",
   "id": "c39190cd",
   "metadata": {},
   "source": [
    "<h2>Cleaning the ratings dataframe</h2>"
   ]
  },
  {
   "cell_type": "code",
   "execution_count": 72,
   "id": "38eb236e",
   "metadata": {},
   "outputs": [
    {
     "name": "stdout",
     "output_type": "stream",
     "text": [
      "<class 'pandas.core.frame.DataFrame'>\n",
      "RangeIndex: 1149780 entries, 0 to 1149779\n",
      "Data columns (total 3 columns):\n",
      " #   Column       Non-Null Count    Dtype \n",
      "---  ------       --------------    ----- \n",
      " 0   User-ID      1149780 non-null  int64 \n",
      " 1   ISBN         1149780 non-null  object\n",
      " 2   Book-Rating  1149780 non-null  int64 \n",
      "dtypes: int64(2), object(1)\n",
      "memory usage: 26.3+ MB\n",
      "None \n",
      "\n"
     ]
    }
   ],
   "source": [
    "print(ratings.info(), '\\n')"
   ]
  },
  {
   "cell_type": "code",
   "execution_count": 16,
   "id": "1eae62cd",
   "metadata": {},
   "outputs": [
    {
     "data": {
      "text/plain": [
       "array([ 0,  5,  3,  6,  8,  7, 10,  9,  4,  1,  2], dtype=int64)"
      ]
     },
     "execution_count": 16,
     "metadata": {},
     "output_type": "execute_result"
    }
   ],
   "source": [
    "# The rating data seems good!\n",
    "ratings['Book-Rating'].unique()"
   ]
  },
  {
   "cell_type": "code",
   "execution_count": 73,
   "id": "be06a2a9",
   "metadata": {},
   "outputs": [
    {
     "name": "stdout",
     "output_type": "stream",
     "text": [
      "(1149780, 3)\n",
      "(1149780, 3)\n",
      "(1031175, 3)\n"
     ]
    }
   ],
   "source": [
    "# Check if the users and books rated exist in other dataframes\n",
    "r_existuser = ratings[ratings['User-ID'].isin(users['User-ID'])]\n",
    "r_existbook = ratings[ratings['ISBN'].isin(books['ISBN'])]\n",
    "\n",
    "print(ratings.shape)\n",
    "print(r_existuser.shape)\n",
    "print(r_existbook.shape)"
   ]
  },
  {
   "cell_type": "markdown",
   "id": "ad624659",
   "metadata": {},
   "source": [
    "<p>It seems like some of the books rated aren't a part of the original books dataset</p>"
   ]
  },
  {
   "cell_type": "code",
   "execution_count": 76,
   "id": "c541c265",
   "metadata": {},
   "outputs": [
    {
     "name": "stdout",
     "output_type": "stream",
     "text": [
      "The sparsity level of the ratings dataset is 99.99863738542713 %\n"
     ]
    }
   ],
   "source": [
    "# Calculate sparsity of the ratings\n",
    "sparsity = 1.0 - len(r_existbook)/float(len(users)*len(books))\n",
    "print(\"The sparsity level of the ratings dataset is\", 100*sparsity, '%')"
   ]
  },
  {
   "cell_type": "code",
   "execution_count": 18,
   "id": "96e6e628",
   "metadata": {},
   "outputs": [
    {
     "data": {
      "text/html": [
       "<div>\n",
       "<style scoped>\n",
       "    .dataframe tbody tr th:only-of-type {\n",
       "        vertical-align: middle;\n",
       "    }\n",
       "\n",
       "    .dataframe tbody tr th {\n",
       "        vertical-align: top;\n",
       "    }\n",
       "\n",
       "    .dataframe thead th {\n",
       "        text-align: right;\n",
       "    }\n",
       "</style>\n",
       "<table border=\"1\" class=\"dataframe\">\n",
       "  <thead>\n",
       "    <tr style=\"text-align: right;\">\n",
       "      <th></th>\n",
       "      <th>User-ID</th>\n",
       "      <th>ISBN</th>\n",
       "      <th>Book-Rating</th>\n",
       "    </tr>\n",
       "  </thead>\n",
       "  <tbody>\n",
       "    <tr>\n",
       "      <th>1</th>\n",
       "      <td>276726</td>\n",
       "      <td>0155061224</td>\n",
       "      <td>5</td>\n",
       "    </tr>\n",
       "    <tr>\n",
       "      <th>3</th>\n",
       "      <td>276729</td>\n",
       "      <td>052165615X</td>\n",
       "      <td>3</td>\n",
       "    </tr>\n",
       "    <tr>\n",
       "      <th>4</th>\n",
       "      <td>276729</td>\n",
       "      <td>0521795028</td>\n",
       "      <td>6</td>\n",
       "    </tr>\n",
       "    <tr>\n",
       "      <th>8</th>\n",
       "      <td>276744</td>\n",
       "      <td>038550120X</td>\n",
       "      <td>7</td>\n",
       "    </tr>\n",
       "    <tr>\n",
       "      <th>16</th>\n",
       "      <td>276747</td>\n",
       "      <td>0060517794</td>\n",
       "      <td>9</td>\n",
       "    </tr>\n",
       "    <tr>\n",
       "      <th>...</th>\n",
       "      <td>...</td>\n",
       "      <td>...</td>\n",
       "      <td>...</td>\n",
       "    </tr>\n",
       "    <tr>\n",
       "      <th>1149771</th>\n",
       "      <td>276704</td>\n",
       "      <td>0743211383</td>\n",
       "      <td>7</td>\n",
       "    </tr>\n",
       "    <tr>\n",
       "      <th>1149773</th>\n",
       "      <td>276704</td>\n",
       "      <td>0806917695</td>\n",
       "      <td>5</td>\n",
       "    </tr>\n",
       "    <tr>\n",
       "      <th>1149775</th>\n",
       "      <td>276704</td>\n",
       "      <td>1563526298</td>\n",
       "      <td>9</td>\n",
       "    </tr>\n",
       "    <tr>\n",
       "      <th>1149777</th>\n",
       "      <td>276709</td>\n",
       "      <td>0515107662</td>\n",
       "      <td>10</td>\n",
       "    </tr>\n",
       "    <tr>\n",
       "      <th>1149778</th>\n",
       "      <td>276721</td>\n",
       "      <td>0590442449</td>\n",
       "      <td>10</td>\n",
       "    </tr>\n",
       "  </tbody>\n",
       "</table>\n",
       "<p>383852 rows × 3 columns</p>\n",
       "</div>"
      ],
      "text/plain": [
       "         User-ID        ISBN  Book-Rating\n",
       "1         276726  0155061224            5\n",
       "3         276729  052165615X            3\n",
       "4         276729  0521795028            6\n",
       "8         276744  038550120X            7\n",
       "16        276747  0060517794            9\n",
       "...          ...         ...          ...\n",
       "1149771   276704  0743211383            7\n",
       "1149773   276704  0806917695            5\n",
       "1149775   276704  1563526298            9\n",
       "1149777   276709  0515107662           10\n",
       "1149778   276721  0590442449           10\n",
       "\n",
       "[383852 rows x 3 columns]"
      ]
     },
     "execution_count": 18,
     "metadata": {},
     "output_type": "execute_result"
    }
   ],
   "source": [
    "# Explicit ratings\n",
    "ratings_nonzero = r_existbook[r_existbook['Book-Rating'] != 0]\n",
    "# Implicit ratings (not sure whether they're 0 or not rated)\n",
    "ratings_allzero = r_existbook[r_existbook['Book-Rating'] == 0]\n",
    "\n",
    "ratings_nonzero"
   ]
  },
  {
   "cell_type": "code",
   "execution_count": null,
   "id": "7084b1a0",
   "metadata": {},
   "outputs": [],
   "source": []
  }
 ],
 "metadata": {
  "kernelspec": {
   "display_name": "Python 3 (ipykernel)",
   "language": "python",
   "name": "python3"
  },
  "language_info": {
   "codemirror_mode": {
    "name": "ipython",
    "version": 3
   },
   "file_extension": ".py",
   "mimetype": "text/x-python",
   "name": "python",
   "nbconvert_exporter": "python",
   "pygments_lexer": "ipython3",
   "version": "3.10.6"
  }
 },
 "nbformat": 4,
 "nbformat_minor": 5
}
